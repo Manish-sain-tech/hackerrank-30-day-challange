{
 "cells": [
  {
   "cell_type": "code",
   "execution_count": null,
   "metadata": {},
   "outputs": [],
   "source": [
    "#!/bin/python3\n",
    "\n",
    "import math\n",
    "import os\n",
    "import random\n",
    "import re\n",
    "import sys\n",
    "\n",
    "\n",
    "\n",
    "if __name__ == '__main__':\n",
    "    count=0\n",
    "    tempcount=0\n",
    "    n = int(input())\n",
    "    \n",
    "    \n",
    "    for i in bin(n):\n",
    "        \n",
    "        if i=='1':\n",
    "            \n",
    "            tempcount+=1\n",
    "            if count<tempcount:\n",
    "                count=tempcount\n",
    "        elif i=='0': \n",
    "              \n",
    "            tempcount=0  \n",
    "        \n",
    "    print(count)        \n"
   ]
  }
 ],
 "metadata": {
  "kernelspec": {
   "display_name": "Python 3",
   "language": "python",
   "name": "python3"
  },
  "language_info": {
   "codemirror_mode": {
    "name": "ipython",
    "version": 3
   },
   "file_extension": ".py",
   "mimetype": "text/x-python",
   "name": "python",
   "nbconvert_exporter": "python",
   "pygments_lexer": "ipython3",
   "version": "3.7.6"
  }
 },
 "nbformat": 4,
 "nbformat_minor": 4
}
