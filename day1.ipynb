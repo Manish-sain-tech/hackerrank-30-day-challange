{
 "cells": [
  {
   "cell_type": "markdown",
   "metadata": {},
   "source": [
    "\n",
    "    // Declare second integer, double, and String variables.\n",
    "int i1;\n",
    "double d1;\n",
    "string s1;\n",
    "cin>>i1>>d1;\n",
    "cin.ignore();\n",
    "getline(cin,s1);\n",
    "cout<<i1+i<<endl<<fixed<<setprecision(1)<<d1+d<<endl<<s<<s1;\n",
    "    \n",
    "    // Read and save an integer, double, and String to your variables.\n",
    "    // Note: If you have trouble reading the entire string, please go back and review the Tutorial closely.\n",
    "    \n",
    "    // Print the sum of both integer variables on a new line.\n",
    "    \n",
    "    // Print the sum of the double variables on a new line.\n",
    "    \n",
    "    // Concatenate and print the String variables on a new line\n",
    "    // The 's' variable above should be printed first.\n"
   ]
  },
  {
   "cell_type": "code",
   "execution_count": null,
   "metadata": {},
   "outputs": [],
   "source": []
  }
 ],
 "metadata": {
  "kernelspec": {
   "display_name": "Python 3",
   "language": "python",
   "name": "python3"
  },
  "language_info": {
   "codemirror_mode": {
    "name": "ipython",
    "version": 3
   },
   "file_extension": ".py",
   "mimetype": "text/x-python",
   "name": "python",
   "nbconvert_exporter": "python",
   "pygments_lexer": "ipython3",
   "version": "3.7.6"
  }
 },
 "nbformat": 4,
 "nbformat_minor": 4
}
