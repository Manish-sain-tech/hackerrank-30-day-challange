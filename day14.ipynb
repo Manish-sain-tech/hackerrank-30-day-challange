{
 "cells": [
  {
   "cell_type": "code",
   "execution_count": null,
   "metadata": {},
   "outputs": [],
   "source": [
    "class Difference:\n",
    "    def __init__(self, a):\n",
    "        self.__elements = a\n",
    "    maximumDifference=0\n",
    "    \n",
    "    def computeDifference(self):\n",
    "        for i in self.__elements:\n",
    "            for j in range(1,len(self.__elements)):\n",
    "                tempdiff=i-self.__elements[j]\n",
    "                if tempdiff<0:\n",
    "                    tempdiff=-tempdiff  \n",
    "                if tempdiff>self.maximumDifference:\n",
    "                    self.maximumDifference=tempdiff \n",
    "                      \n",
    "       \n",
    "\t# Add your code here\n",
    "\n",
    "# End of Difference class\n",
    "\n",
    "_ = input()\n",
    "a = [int(e) for e in input().split(' ')]\n",
    "\n",
    "d = Difference(a)\n",
    "d.computeDifference()\n",
    "\n",
    "print(d.maximumDifference)"
   ]
  }
 ],
 "metadata": {
  "kernelspec": {
   "display_name": "Python 3",
   "language": "python",
   "name": "python3"
  },
  "language_info": {
   "codemirror_mode": {
    "name": "ipython",
    "version": 3
   },
   "file_extension": ".py",
   "mimetype": "text/x-python",
   "name": "python",
   "nbconvert_exporter": "python",
   "pygments_lexer": "ipython3",
   "version": "3.7.6"
  }
 },
 "nbformat": 4,
 "nbformat_minor": 4
}
