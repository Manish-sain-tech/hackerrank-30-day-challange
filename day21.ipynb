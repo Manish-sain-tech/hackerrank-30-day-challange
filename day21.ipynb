{
 "cells": [
  {
   "cell_type": "code",
   "execution_count": null,
   "metadata": {},
   "outputs": [],
   "source": [
    "#include <iostream>\n",
    "#include <vector>\n",
    "#include <string>\n",
    "\n",
    "using namespace std;\n",
    "\n",
    "/**\n",
    "*    Name: printArray\n",
    "*    Print each element of the generic vector on a new line. Do not return anything.\n",
    "*    @param A generic vector\n",
    "**/\n",
    "\n",
    "// Write your code here\n",
    "template<typename T>\n",
    "void printArray(vector<T> arr)\n",
    "{\n",
    "    for(T i:arr)\n",
    "    cout<<i<<endl;\n",
    "}\n",
    "int main() {\n",
    "\tint n;\n",
    "\t\n",
    "\tcin >> n;\n",
    "\tvector<int> int_vector(n);\n",
    "\tfor (int i = 0; i < n; i++) {\n",
    "\t\tint value;\n",
    "\t\tcin >> value;\n",
    "\t\tint_vector[i] = value;\n",
    "\t}\n",
    "\t\n",
    "\tcin >> n;\n",
    "\tvector<string> string_vector(n);\n",
    "\tfor (int i = 0; i < n; i++) {\n",
    "\t\tstring value;\n",
    "\t\tcin >> value;\n",
    "\t\tstring_vector[i] = value;\n",
    "\t}\n",
    "\n",
    "\tprintArray<int>(int_vector);\n",
    "\tprintArray<string>(string_vector);\n",
    "\n",
    "\treturn 0;\n",
    "}"
   ]
  }
 ],
 "metadata": {
  "kernelspec": {
   "display_name": "Python 3",
   "language": "python",
   "name": "python3"
  },
  "language_info": {
   "codemirror_mode": {
    "name": "ipython",
    "version": 3
   },
   "file_extension": ".py",
   "mimetype": "text/x-python",
   "name": "python",
   "nbconvert_exporter": "python",
   "pygments_lexer": "ipython3",
   "version": "3.7.6"
  }
 },
 "nbformat": 4,
 "nbformat_minor": 4
}
