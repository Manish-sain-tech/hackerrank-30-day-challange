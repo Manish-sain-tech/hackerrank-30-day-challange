{
 "cells": [
  {
   "cell_type": "code",
   "execution_count": null,
   "metadata": {},
   "outputs": [],
   "source": [
    "# Enter your code here. Read input from STDIN. Print output to STDOUT\n",
    "n = int(input())\n",
    "phonebook = {}\n",
    "for i in range(n):\n",
    "    x = input().split()\n",
    "    phonebook[x[0]] = x[1]\n",
    "while True:\n",
    "    try:\n",
    "        name = input()\n",
    "        if name in phonebook:\n",
    "            print(name, \"=\", phonebook[name], sep=\"\")\n",
    "        else: \n",
    "            print(\"Not found\")   \n",
    "    except: \n",
    "        break"
   ]
  }
 ],
 "metadata": {
  "kernelspec": {
   "display_name": "Python 3",
   "language": "python",
   "name": "python3"
  },
  "language_info": {
   "codemirror_mode": {
    "name": "ipython",
    "version": 3
   },
   "file_extension": ".py",
   "mimetype": "text/x-python",
   "name": "python",
   "nbconvert_exporter": "python",
   "pygments_lexer": "ipython3",
   "version": "3.7.6"
  }
 },
 "nbformat": 4,
 "nbformat_minor": 4
}
